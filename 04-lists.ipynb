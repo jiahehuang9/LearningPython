{
 "cells": [
  {
   "cell_type": "code",
   "execution_count": 2,
   "id": "d438afb3-32d7-46ba-be1a-70276fbdcdad",
   "metadata": {},
   "outputs": [
    {
     "name": "stdout",
     "output_type": "stream",
     "text": [
      "odds are: [1, 3, 5, 7]\n"
     ]
    }
   ],
   "source": [
    "odds = [1, 3, 5, 7]\n",
    "print(\"odds are:\", odds)"
   ]
  },
  {
   "cell_type": "code",
   "execution_count": 3,
   "id": "21023d33-a00e-47fe-b045-6ee0d36a426b",
   "metadata": {},
   "outputs": [
    {
     "name": "stdout",
     "output_type": "stream",
     "text": [
      "First element in the list 1\n"
     ]
    }
   ],
   "source": [
    "print(\"First element in the list\", odds[0])"
   ]
  },
  {
   "cell_type": "code",
   "execution_count": 4,
   "id": "5140245b-394c-44f7-bbf6-3bd239b9e1e5",
   "metadata": {},
   "outputs": [
    {
     "name": "stdout",
     "output_type": "stream",
     "text": [
      "First element in the list 7\n"
     ]
    }
   ],
   "source": [
    "print(\"First element in the list\", odds[-1])"
   ]
  },
  {
   "cell_type": "code",
   "execution_count": 6,
   "id": "249838b7-c855-4b64-937a-30766e4858bc",
   "metadata": {},
   "outputs": [
    {
     "name": "stdout",
     "output_type": "stream",
     "text": [
      "Every second element in the list [1, 5]\n"
     ]
    }
   ],
   "source": [
    "print(\"Every second element in the list\", odds[0::2])"
   ]
  },
  {
   "cell_type": "code",
   "execution_count": 8,
   "id": "10ab493d-cd9f-45d8-9af2-38f1393f13f0",
   "metadata": {},
   "outputs": [
    {
     "name": "stdout",
     "output_type": "stream",
     "text": [
      "name is originally ['Curie', 'Darwing', 'Turing']\n",
      "Final values of names ['Curie', 'Darwin', 'Turing']\n"
     ]
    }
   ],
   "source": [
    "names = [\"Curie\", \"Darwing\", \"Turing\"]\n",
    "print(\"name is originally\", names)\n",
    "names[1] = \"Darwin\"\n",
    "print(\"Final values of names\", names)"
   ]
  },
  {
   "cell_type": "code",
   "execution_count": 9,
   "id": "93a99e96-8eaf-4798-87b5-c6ed35bc589f",
   "metadata": {},
   "outputs": [
    {
     "name": "stdout",
     "output_type": "stream",
     "text": [
      "First character in the name D\n"
     ]
    }
   ],
   "source": [
    "name = \"Darwin\"\n",
    "print(\"First character in the name\", name[0])"
   ]
  },
  {
   "cell_type": "code",
   "execution_count": null,
   "id": "068263c7-8c92-46c7-9013-475fb8d604d3",
   "metadata": {},
   "outputs": [],
   "source": [
    "name[0] = \"d\""
   ]
  },
  {
   "cell_type": "code",
   "execution_count": 12,
   "id": "3f29a56e-55e1-4492-95c8-dbf1e2ca4c77",
   "metadata": {},
   "outputs": [],
   "source": [
    "x = [\n",
    "    [\"pepper\", \"courgette\", \"onion\"],\n",
    "    [\"cabbage\", \"lettuce\", \"garlic\"],\n",
    "    [\"apple\", \"pear\", \"banana\"]\n",
    "]"
   ]
  },
  {
   "cell_type": "code",
   "execution_count": 13,
   "id": "e6dfb5b0-923b-436f-8a30-f672506d5023",
   "metadata": {},
   "outputs": [
    {
     "name": "stdout",
     "output_type": "stream",
     "text": [
      "['pepper', 'courgette', 'onion']\n"
     ]
    }
   ],
   "source": [
    "print(x[0])"
   ]
  },
  {
   "cell_type": "code",
   "execution_count": 14,
   "id": "159e4daf-4c3a-4f57-b1c9-ab0a34299279",
   "metadata": {},
   "outputs": [
    {
     "name": "stdout",
     "output_type": "stream",
     "text": [
      "courgette\n"
     ]
    }
   ],
   "source": [
    "print (x[0][1])"
   ]
  },
  {
   "cell_type": "code",
   "execution_count": 16,
   "id": "37915f60-703f-4d4f-bf12-85833f5b916d",
   "metadata": {},
   "outputs": [
    {
     "name": "stdout",
     "output_type": "stream",
     "text": [
      "<class 'int'>\n",
      "<class 'float'>\n",
      "<class 'str'>\n"
     ]
    }
   ],
   "source": [
    "sample_ages = [10, 12.5, \"Unknown\"]\n",
    "print(type(sample_ages[0]))\n",
    "print(type(sample_ages[1]))\n",
    "print(type(sample_ages[2]))"
   ]
  },
  {
   "cell_type": "code",
   "execution_count": 29,
   "id": "d81f3a3c-6eb6-4bae-8866-3b7d5905da03",
   "metadata": {},
   "outputs": [
    {
     "name": "stdout",
     "output_type": "stream",
     "text": [
      "odds after adding a value [11, 11, 11]\n"
     ]
    }
   ],
   "source": [
    "odds.append(11)\n",
    "print(\"odds after adding a value\", odds)"
   ]
  },
  {
   "cell_type": "code",
   "execution_count": 26,
   "id": "3c081e86-239d-40f6-9071-2e8703d747d5",
   "metadata": {},
   "outputs": [
    {
     "ename": "IndexError",
     "evalue": "pop from empty list",
     "output_type": "error",
     "traceback": [
      "\u001b[1;31m---------------------------------------------------------------------------\u001b[0m",
      "\u001b[1;31mIndexError\u001b[0m                                Traceback (most recent call last)",
      "Input \u001b[1;32mIn [26]\u001b[0m, in \u001b[0;36m<cell line: 1>\u001b[1;34m()\u001b[0m\n\u001b[1;32m----> 1\u001b[0m removed_element \u001b[38;5;241m=\u001b[39m \u001b[43modds\u001b[49m\u001b[38;5;241;43m.\u001b[39;49m\u001b[43mpop\u001b[49m\u001b[43m(\u001b[49m\u001b[38;5;241;43m0\u001b[39;49m\u001b[43m)\u001b[49m\n\u001b[0;32m      2\u001b[0m \u001b[38;5;28mprint\u001b[39m(\u001b[38;5;124m\"\u001b[39m\u001b[38;5;124modds after removing the first element\u001b[39m\u001b[38;5;124m\"\u001b[39m, odds)\n\u001b[0;32m      3\u001b[0m \u001b[38;5;28mprint\u001b[39m(\u001b[38;5;124m\"\u001b[39m\u001b[38;5;124mremoved_element\u001b[39m\u001b[38;5;124m\"\u001b[39m, removed_element)\n",
      "\u001b[1;31mIndexError\u001b[0m: pop from empty list"
     ]
    }
   ],
   "source": [
    "removed_element = odds.pop(0)\n",
    "print(\"odds after removing the first element\", odds)\n",
    "print(\"removed_element\", removed_element)"
   ]
  },
  {
   "cell_type": "code",
   "execution_count": 42,
   "id": "9fbdb063-78f5-44de-9910-52716a698104",
   "metadata": {},
   "outputs": [
    {
     "name": "stdout",
     "output_type": "stream",
     "text": [
      "2013\n"
     ]
    }
   ],
   "source": [
    "string_for_slicing = 'observation data: 02-Feb-2013'\n",
    "x = string_for_slicing[-4:]\n",
    "print(x)"
   ]
  },
  {
   "cell_type": "code",
   "execution_count": 44,
   "id": "84d1adf4-4a17-4f61-828e-89622c196427",
   "metadata": {},
   "outputs": [
    {
     "name": "stdout",
     "output_type": "stream",
     "text": [
      "I notpssgre ntesae\n"
     ]
    }
   ],
   "source": [
    "beatles = \"In an octopus's garden in the shade\"\n",
    "x = beatles[0::2]\n",
    "print(x)"
   ]
  },
  {
   "cell_type": "code",
   "execution_count": 45,
   "id": "caf21b92-8f67-4092-9db6-289626b4e46e",
   "metadata": {},
   "outputs": [
    {
     "name": "stdout",
     "output_type": "stream",
     "text": [
      "[2, 4, 6, 8, 10, 2, 4, 6, 8, 10]\n"
     ]
    }
   ],
   "source": [
    "counts = [2,4,6,8,10]\n",
    "print(counts *2)"
   ]
  },
  {
   "cell_type": "code",
   "execution_count": null,
   "id": "5ba2185b-57bb-48fc-9ef3-ce053eff52ec",
   "metadata": {},
   "outputs": [],
   "source": []
  }
 ],
 "metadata": {
  "kernelspec": {
   "display_name": "Python 3 (ipykernel)",
   "language": "python",
   "name": "python3"
  },
  "language_info": {
   "codemirror_mode": {
    "name": "ipython",
    "version": 3
   },
   "file_extension": ".py",
   "mimetype": "text/x-python",
   "name": "python",
   "nbconvert_exporter": "python",
   "pygments_lexer": "ipython3",
   "version": "3.9.12"
  }
 },
 "nbformat": 4,
 "nbformat_minor": 5
}
