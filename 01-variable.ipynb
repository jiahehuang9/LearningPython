{
 "cells": [
  {
   "cell_type": "code",
   "execution_count": null,
   "id": "a6fba12d-003a-4429-9998-ed80e46cb7ef",
   "metadata": {},
   "outputs": [],
   "source": [
    "# Variables\n",
    "\n",
    "This"
   ]
  },
  {
   "cell_type": "code",
   "execution_count": 1,
   "id": "ed061f9a-7596-4dec-aa96-7e92108fb2b3",
   "metadata": {},
   "outputs": [],
   "source": [
    "weight_kg = 55"
   ]
  },
  {
   "cell_type": "code",
   "execution_count": 3,
   "id": "8b0c5626-1522-437f-ba68-8152008c726a",
   "metadata": {},
   "outputs": [
    {
     "name": "stdout",
     "output_type": "stream",
     "text": [
      "55\n"
     ]
    }
   ],
   "source": [
    "print(weight_kg)"
   ]
  },
  {
   "cell_type": "code",
   "execution_count": 4,
   "id": "3c083753-6048-4ca5-a597-0b64b7553b57",
   "metadata": {},
   "outputs": [
    {
     "name": "stdout",
     "output_type": "stream",
     "text": [
      "weight in pounds 121.00000000000001\n"
     ]
    }
   ],
   "source": [
    "print(\"weight in pounds\", 2.2* weight_kg)"
   ]
  },
  {
   "cell_type": "code",
   "execution_count": 5,
   "id": "72a7af31-e7ef-4545-ad5c-52e1b64b8d73",
   "metadata": {},
   "outputs": [
    {
     "name": "stdout",
     "output_type": "stream",
     "text": [
      "weight in kg: 55 and in lb 121.00000000000001\n"
     ]
    }
   ],
   "source": [
    "weight_lb = 2.2* weight_kg\n",
    "print(\"weight in kg:\", weight_kg, \"and in lb\", weight_lb)"
   ]
  },
  {
   "cell_type": "code",
   "execution_count": null,
   "id": "996be2ff-028c-450d-845c-1360c003abb1",
   "metadata": {},
   "outputs": [],
   "source": [
    "ight_kg = 100\n",
    "int(\"weight in kg is now\", weight_kg, \"and weight in lb is now\", weight_lb\n",
    "    \n",
    "weight in kg is now 100 and weight in lb is now121.00000000000001"
   ]
  }
 ],
 "metadata": {
  "kernelspec": {
   "display_name": "Python 3 (ipykernel)",
   "language": "python",
   "name": "python3"
  },
  "language_info": {
   "codemirror_mode": {
    "name": "ipython",
    "version": 3
   },
   "file_extension": ".py",
   "mimetype": "text/x-python",
   "name": "python",
   "nbconvert_exporter": "python",
   "pygments_lexer": "ipython3",
   "version": "3.9.12"
  }
 },
 "nbformat": 4,
 "nbformat_minor": 5
}
